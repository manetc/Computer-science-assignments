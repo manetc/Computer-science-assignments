{
  "cells": [
    {
      "cell_type": "markdown",
      "id": "ad73f86b",
      "metadata": {},
      "source": [
        "# Sorting Algorithms (Selection, Insertion, Bubble)\n",
        "\n",
        "All these algorithms are called **quadratic algorithms** because they involve **two nested loops**, which means their running time is proportional to *n²* in the worst case.\n",
        "\n",
        "They all share a common idea:  \n",
        "at each step, the array can be viewed as two parts:\n",
        "````[ Unsorted Part | Sorted Part ]````\n",
        "- The **Unsorted Part** is the portion of the array that still needs work.  \n",
        "- The **Sorted Part** is the portion that is already in the correct order.  \n",
        "- With each iteration, one element is moved from the unsorted part into its correct position in the sorted part.\n",
        "\n",
        "## Key Differences\n",
        "\n",
        "- **Bubble Sort**  \n",
        "Repeatedly swaps adjacent elements if they are in the wrong order.  \n",
        "After each full pass, the largest element in the unsorted part “bubbles up” to the end of the array.  \n",
        "Repeatedly walk through the array, comparing adjacent pairs and swapping them if they are out of order. Each full pass moves the largest remaining element to its final position at the end of the array — like a bubble rising.\n",
        "\n",
        "````\n",
        "Pseudocode \n",
        " for i = 0 to n - 1\n",
        "    for j = 0 to n-i-1:\n",
        "      if a[j] > a[j+1]:\n",
        "        swap a[j], a[j+1]\n",
        " \n",
        "````\n",
        "- **Selection Sort**  \n",
        "  Always finds the smallest element in the unsorted part and moves it into the front.  \n",
        "  The sorted part grows **from left to right**.\n",
        "\n",
        "- At each step we scan the unsorted portion of the array to find the smallest remaining element and place it at the left end of the unsorted portion.\n",
        "- After k steps the first k elements are the smallest k elements in correct order.\n",
        "\n",
        "````\n",
        "Pseudocode \n",
        "\n",
        "for i from 0 to n-2:\n",
        "  min_index = i\n",
        "  for j from i+1 to n-1:\n",
        "      if a[j] < a[min_index]:\n",
        "          min_index = j\n",
        "      if min_index != i:\n",
        "          swap a[i] and a[min_index]\n",
        "`````\n",
        "          \n",
        "- **Insertion Sort**  \n",
        "  Takes the next unsorted element and inserts it into its correct position within the sorted part.  \n",
        "  Works especially well if the array is already nearly sorted.\n",
        "\n",
        "We build the sorted array from left to right. For each element, insert it into the correct position among the previously-sorted elements by shifting larger elements to the right.\n",
        "\n",
        "\n",
        "Pseudocode \n",
        "\n",
        "````\n",
        "for i = 1 to n-1:\n",
        "  key = a[i]\n",
        "  j = i-1\n",
        "  while j >= 0 and a[j] > key:\n",
        "      a[j+1] = a[j]\n",
        "      j = j-1\n",
        "  a[j+1] = key\n",
        "````\n",
        "\n"
      ]
    },
    {
      "cell_type": "markdown",
      "id": "c46ea7b0",
      "metadata": {},
      "source": [
        "- At each step we scan the unsorted portion of the array to find the smallest remaining element and place it at the left end of the unsorted portion.\n",
        "- After k steps the first k elements are the smallest k elements in correct order."
      ]
    },
    {
      "cell_type": "code",
      "execution_count": null,
      "id": "bb58afcb",
      "metadata": {},
      "outputs": [],
      "source": [
        "def selection_sort_verbose(a):\n",
        "    n = len(a)\n",
        "    comparisons = 0\n",
        "    swaps = 0\n",
        "    print(\"Original:\", a)\n",
        "    for i in range(n-1):\n",
        "        min_idx = i\n",
        "        print(f\"\\n-- Outer i={i}: assume min_idx={min_idx} (a[{min_idx}]={a[min_idx]})\")\n",
        "        for j in range(i+1, n):\n",
        "            comparisons += 1\n",
        "            print(f\"   compare a[{j}]={a[j]} with a[{min_idx}]={a[min_idx]}\", end='')\n",
        "            if a[j] < a[min_idx]:\n",
        "                min_idx = j\n",
        "                print(f\"  --> new min_idx={min_idx}\")\n",
        "            else:\n",
        "                print(\"  --> no change\")\n",
        "        if min_idx != i:\n",
        "            print(f\"   swap a[{i}]={a[i]} and a[{min_idx}]={a[min_idx]}\")\n",
        "            a[i], a[min_idx] = a[min_idx], a[i]\n",
        "            swaps += 1\n",
        "        else:\n",
        "            print(f\"   no swap needed (min already at position {i})\")\n",
        "        print(f\"   array after step {i}: {a}\")\n",
        "    print(f\"\\nFinished: {a}\")\n",
        "    print(f\"Comparisons={comparisons}, Swaps={swaps}\")\n",
        "    return a"
      ]
    },
    {
      "cell_type": "code",
      "execution_count": null,
      "id": "5705e9bb",
      "metadata": {},
      "outputs": [],
      "source": [
        "selection_sort_verbose([5,4,2,1])"
      ]
    },
    {
      "cell_type": "code",
      "execution_count": null,
      "id": "0980fd50",
      "metadata": {},
      "outputs": [],
      "source": [
        "def bubble_sort_verbose(a):\n",
        "\n",
        "    n = len(a)\n",
        "    comparisons = 0\n",
        "    swaps = 0\n",
        "    pass_num = 0\n",
        "    print(\"Original:\", a)\n",
        "    for i in range(n-1):\n",
        "        swapped = False\n",
        "        print(f\"\\n-- Pass {i+1}, scanning up to index {n-i-1} (inclusive)\")\n",
        "        for j in range(0, n-i-1):\n",
        "            comparisons += 1\n",
        "            print(f\"   compare a[{j}]={a[j]} and a[{j+1}]={a[j+1]}\", end='')\n",
        "            if a[j] > a[j+1]:\n",
        "                a[j], a[j+1] = a[j+1], a[j]\n",
        "                swaps += 1\n",
        "                print(f\"  --> swap -> {a}\")\n",
        "            else:\n",
        "                print(\"  --> no swap\")\n",
        "        print(f\"   array after pass {i+1}: {a}\")\n",
        "        pass_num += 1\n",
        "    print(f\"\\nFinished: {a}\")\n",
        "    print(f\"Passes={pass_num}, Comparisons={comparisons}, Swaps={swaps}\")\n",
        "    return a\n"
      ]
    },
    {
      "cell_type": "code",
      "execution_count": null,
      "id": "64d81af5",
      "metadata": {},
      "outputs": [],
      "source": [
        "bubble_sort_verbose([5,4,2,1])"
      ]
    },
    {
      "cell_type": "markdown",
      "id": "a071f30f",
      "metadata": {},
      "source": [
        "## TODO : Finish the insertion sort below"
      ]
    },
    {
      "cell_type": "code",
      "execution_count": 3,
      "id": "c47715df",
      "metadata": {},
      "outputs": [],
      "source": [
        "\n",
        "def insertion_sort_verbose(a):\n",
        "    n = len(a)\n",
        "    comparisons = 0\n",
        "    shifts = 0\n",
        "    print(\"Original:\", a)\n",
        "    # Your code here\n",
        "    for i in range (1, n):\n",
        "        index = i\n",
        "        for j in range (index, 0, -1):\n",
        "            comparisons += 1\n",
        "            if a[j]<a[j-1]:\n",
        "                a[j], a[j-1] = a[j-1], a[j]\n",
        "                shifts += 1\n",
        "        \n",
        "\n",
        "    print(f\"\\nFinished: {a}\")\n",
        "    print(f\"Comparisons={comparisons}, Shifts={shifts}\")\n",
        "    return a\n"
      ]
    },
    {
      "cell_type": "code",
      "execution_count": 4,
      "id": "6800d2b4",
      "metadata": {},
      "outputs": [
        {
          "name": "stdout",
          "output_type": "stream",
          "text": [
            "Original: [3, 4, 2, 1]\n",
            "\n",
            "Finished: [1, 2, 3, 4]\n",
            "Comparisons=6, Shifts=5\n"
          ]
        },
        {
          "data": {
            "text/plain": [
              "[1, 2, 3, 4]"
            ]
          },
          "execution_count": 4,
          "metadata": {},
          "output_type": "execute_result"
        }
      ],
      "source": [
        "#assert insertion_sort_verbose([3,4,2,1]) == [1,2,3,4]\n",
        "insertion_sort_verbose([3,4,2,1])"
      ]
    }
  ],
  "metadata": {
    "kernelspec": {
      "display_name": "venv (3.13.7)",
      "language": "python",
      "name": "python3"
    },
    "language_info": {
      "codemirror_mode": {
        "name": "ipython",
        "version": 3
      },
      "file_extension": ".py",
      "mimetype": "text/x-python",
      "name": "python",
      "nbconvert_exporter": "python",
      "pygments_lexer": "ipython3",
      "version": "3.13.7"
    }
  },
  "nbformat": 4,
  "nbformat_minor": 5
}
